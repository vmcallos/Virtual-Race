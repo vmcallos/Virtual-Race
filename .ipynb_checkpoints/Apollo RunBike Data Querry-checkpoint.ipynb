{
 "cells": [
  {
   "cell_type": "code",
   "execution_count": 118,
   "metadata": {},
   "outputs": [],
   "source": [
    "import pandas as pd\n",
    "import matplotlib.pyplot as plt\n",
    "plt.style.use('classic')\n",
    "%matplotlib inline"
   ]
  },
  {
   "cell_type": "code",
   "execution_count": 61,
   "metadata": {
    "collapsed": true
   },
   "outputs": [],
   "source": [
    "df = pd.read_csv('data1.csv', parse_dates=['Date', 'Time'])"
   ]
  },
  {
   "cell_type": "code",
   "execution_count": 62,
   "metadata": {},
   "outputs": [
    {
     "data": {
      "text/html": [
       "<div>\n",
       "<table border=\"1\" class=\"dataframe\">\n",
       "  <thead>\n",
       "    <tr style=\"text-align: right;\">\n",
       "      <th></th>\n",
       "      <th>Name</th>\n",
       "      <th>Team</th>\n",
       "      <th>Activity</th>\n",
       "      <th>Distance</th>\n",
       "      <th>Pace</th>\n",
       "      <th>Moving Time</th>\n",
       "      <th>Start</th>\n",
       "      <th>Date</th>\n",
       "      <th>Time</th>\n",
       "    </tr>\n",
       "  </thead>\n",
       "  <tbody>\n",
       "    <tr>\n",
       "      <th>0</th>\n",
       "      <td>Bong Mascardo</td>\n",
       "      <td>Blue</td>\n",
       "      <td>Run</td>\n",
       "      <td>5.00</td>\n",
       "      <td>0:08:02</td>\n",
       "      <td>0:40:10</td>\n",
       "      <td>4:52</td>\n",
       "      <td>2018-04-21</td>\n",
       "      <td>2018-04-21 04:52:00</td>\n",
       "    </tr>\n",
       "    <tr>\n",
       "      <th>1</th>\n",
       "      <td>Aguinaldo Catalan</td>\n",
       "      <td>Lavender</td>\n",
       "      <td>Run</td>\n",
       "      <td>4.31</td>\n",
       "      <td>0:10:45</td>\n",
       "      <td>0:46:23</td>\n",
       "      <td>5:20</td>\n",
       "      <td>2018-04-21</td>\n",
       "      <td>2018-04-21 05:20:00</td>\n",
       "    </tr>\n",
       "    <tr>\n",
       "      <th>2</th>\n",
       "      <td>Jesse Buban</td>\n",
       "      <td>Green</td>\n",
       "      <td>Bike</td>\n",
       "      <td>29.97</td>\n",
       "      <td>0:18:06</td>\n",
       "      <td>1:36:53</td>\n",
       "      <td>5:25</td>\n",
       "      <td>2018-04-21</td>\n",
       "      <td>2018-04-21 05:25:00</td>\n",
       "    </tr>\n",
       "    <tr>\n",
       "      <th>3</th>\n",
       "      <td>Javier Rubis</td>\n",
       "      <td>Yellow</td>\n",
       "      <td>Run</td>\n",
       "      <td>2.49</td>\n",
       "      <td>0:13:06</td>\n",
       "      <td>0:32:44</td>\n",
       "      <td>6:29</td>\n",
       "      <td>2018-04-21</td>\n",
       "      <td>2018-04-21 06:29:00</td>\n",
       "    </tr>\n",
       "    <tr>\n",
       "      <th>4</th>\n",
       "      <td>Debbie Anne Borabo</td>\n",
       "      <td>Green</td>\n",
       "      <td>Run</td>\n",
       "      <td>4.89</td>\n",
       "      <td>0:06:11</td>\n",
       "      <td>0:30:15</td>\n",
       "      <td>6:44</td>\n",
       "      <td>2018-04-21</td>\n",
       "      <td>2018-04-21 06:44:00</td>\n",
       "    </tr>\n",
       "  </tbody>\n",
       "</table>\n",
       "</div>"
      ],
      "text/plain": [
       "                 Name      Team Activity  Distance     Pace Moving Time Start  \\\n",
       "0       Bong Mascardo      Blue      Run      5.00  0:08:02     0:40:10  4:52   \n",
       "1   Aguinaldo Catalan  Lavender      Run      4.31  0:10:45     0:46:23  5:20   \n",
       "2         Jesse Buban     Green     Bike     29.97  0:18:06     1:36:53  5:25   \n",
       "3        Javier Rubis    Yellow      Run      2.49  0:13:06     0:32:44  6:29   \n",
       "4  Debbie Anne Borabo     Green      Run      4.89  0:06:11     0:30:15  6:44   \n",
       "\n",
       "        Date                Time  \n",
       "0 2018-04-21 2018-04-21 04:52:00  \n",
       "1 2018-04-21 2018-04-21 05:20:00  \n",
       "2 2018-04-21 2018-04-21 05:25:00  \n",
       "3 2018-04-21 2018-04-21 06:29:00  \n",
       "4 2018-04-21 2018-04-21 06:44:00  "
      ]
     },
     "execution_count": 62,
     "metadata": {},
     "output_type": "execute_result"
    }
   ],
   "source": [
    "df.head()"
   ]
  },
  {
   "cell_type": "code",
   "execution_count": 63,
   "metadata": {},
   "outputs": [
    {
     "name": "stdout",
     "output_type": "stream",
     "text": [
      "<class 'pandas.core.frame.DataFrame'>\n",
      "RangeIndex: 25 entries, 0 to 24\n",
      "Data columns (total 9 columns):\n",
      "Name           25 non-null object\n",
      "Team           25 non-null object\n",
      "Activity       25 non-null object\n",
      "Distance       25 non-null float64\n",
      "Pace           25 non-null object\n",
      "Moving Time    25 non-null object\n",
      "Start          25 non-null object\n",
      "Date           25 non-null datetime64[ns]\n",
      "Time           25 non-null datetime64[ns]\n",
      "dtypes: datetime64[ns](2), float64(1), object(6)\n",
      "memory usage: 1.8+ KB\n"
     ]
    }
   ],
   "source": [
    "df.info()"
   ]
  },
  {
   "cell_type": "markdown",
   "metadata": {},
   "source": [
    "### Total Mileage by Team per Activity"
   ]
  },
  {
   "cell_type": "code",
   "execution_count": 64,
   "metadata": {},
   "outputs": [
    {
     "data": {
      "text/html": [
       "<div>\n",
       "<table border=\"1\" class=\"dataframe\">\n",
       "  <thead>\n",
       "    <tr style=\"text-align: right;\">\n",
       "      <th></th>\n",
       "      <th></th>\n",
       "      <th>Distance</th>\n",
       "    </tr>\n",
       "    <tr>\n",
       "      <th>Activity</th>\n",
       "      <th>Team</th>\n",
       "      <th></th>\n",
       "    </tr>\n",
       "  </thead>\n",
       "  <tbody>\n",
       "    <tr>\n",
       "      <th rowspan=\"3\" valign=\"top\">Bike</th>\n",
       "      <th>Blue</th>\n",
       "      <td>25.08</td>\n",
       "    </tr>\n",
       "    <tr>\n",
       "      <th>Green</th>\n",
       "      <td>268.25</td>\n",
       "    </tr>\n",
       "    <tr>\n",
       "      <th>Lavender</th>\n",
       "      <td>25.27</td>\n",
       "    </tr>\n",
       "    <tr>\n",
       "      <th rowspan=\"4\" valign=\"top\">Run</th>\n",
       "      <th>Blue</th>\n",
       "      <td>12.00</td>\n",
       "    </tr>\n",
       "    <tr>\n",
       "      <th>Green</th>\n",
       "      <td>19.18</td>\n",
       "    </tr>\n",
       "    <tr>\n",
       "      <th>Lavender</th>\n",
       "      <td>4.31</td>\n",
       "    </tr>\n",
       "    <tr>\n",
       "      <th>Yellow</th>\n",
       "      <td>53.57</td>\n",
       "    </tr>\n",
       "  </tbody>\n",
       "</table>\n",
       "</div>"
      ],
      "text/plain": [
       "                   Distance\n",
       "Activity Team              \n",
       "Bike     Blue         25.08\n",
       "         Green       268.25\n",
       "         Lavender     25.27\n",
       "Run      Blue         12.00\n",
       "         Green        19.18\n",
       "         Lavender      4.31\n",
       "         Yellow       53.57"
      ]
     },
     "execution_count": 64,
     "metadata": {},
     "output_type": "execute_result"
    }
   ],
   "source": [
    "df.groupby(['Activity', 'Team']).sum()"
   ]
  },
  {
   "cell_type": "markdown",
   "metadata": {},
   "source": [
    "### Run Mileage Ranking"
   ]
  },
  {
   "cell_type": "code",
   "execution_count": 125,
   "metadata": {},
   "outputs": [
    {
     "data": {
      "text/html": [
       "<div>\n",
       "<table border=\"1\" class=\"dataframe\">\n",
       "  <thead>\n",
       "    <tr style=\"text-align: right;\">\n",
       "      <th></th>\n",
       "      <th>Team</th>\n",
       "      <th>Distance</th>\n",
       "    </tr>\n",
       "  </thead>\n",
       "  <tbody>\n",
       "    <tr>\n",
       "      <th>0</th>\n",
       "      <td>Yellow</td>\n",
       "      <td>53.57</td>\n",
       "    </tr>\n",
       "    <tr>\n",
       "      <th>1</th>\n",
       "      <td>Green</td>\n",
       "      <td>19.18</td>\n",
       "    </tr>\n",
       "    <tr>\n",
       "      <th>2</th>\n",
       "      <td>Blue</td>\n",
       "      <td>12.00</td>\n",
       "    </tr>\n",
       "    <tr>\n",
       "      <th>3</th>\n",
       "      <td>Lavender</td>\n",
       "      <td>4.31</td>\n",
       "    </tr>\n",
       "  </tbody>\n",
       "</table>\n",
       "</div>"
      ],
      "text/plain": [
       "       Team  Distance\n",
       "0    Yellow     53.57\n",
       "1     Green     19.18\n",
       "2      Blue     12.00\n",
       "3  Lavender      4.31"
      ]
     },
     "execution_count": 125,
     "metadata": {},
     "output_type": "execute_result"
    }
   ],
   "source": [
    "total_run_distance = df[df.Activity == 'Run'].groupby('Team').sum()\n",
    "total_run_distance = total_distance.sort_values(['Distance'], ascending=False).reset_index()\n",
    "total_run_distance"
   ]
  },
  {
   "cell_type": "code",
   "execution_count": 141,
   "metadata": {},
   "outputs": [
    {
     "data": {
      "text/plain": [
       "<matplotlib.text.Text at 0x13ff49b60f0>"
      ]
     },
     "execution_count": 141,
     "metadata": {},
     "output_type": "execute_result"
    },
    {
     "data": {
      "image/png": "[encoded data removed]",
      "text/plain": [
       "<matplotlib.figure.Figure at 0x13ff5df90f0>"
      ]
     },
     "metadata": {},
     "output_type": "display_data"
    }
   ],
   "source": [
    "ax = total_run_distance.plot(x='Team', y='Distance', kind='bar', color=total_run_distance['Team'])\n",
    "ax.set_ylabel('Distance (km)')"
   ]
  },
  {
   "cell_type": "markdown",
   "metadata": {},
   "source": [
    "### Bike Mileage Ranking"
   ]
  },
  {
   "cell_type": "code",
   "execution_count": 147,
   "metadata": {},
   "outputs": [
    {
     "data": {
      "text/html": [
       "<div>\n",
       "<table border=\"1\" class=\"dataframe\">\n",
       "  <thead>\n",
       "    <tr style=\"text-align: right;\">\n",
       "      <th></th>\n",
       "      <th>Team</th>\n",
       "      <th>Distance</th>\n",
       "    </tr>\n",
       "  </thead>\n",
       "  <tbody>\n",
       "    <tr>\n",
       "      <th>0</th>\n",
       "      <td>Green</td>\n",
       "      <td>268.25</td>\n",
       "    </tr>\n",
       "    <tr>\n",
       "      <th>1</th>\n",
       "      <td>Lavender</td>\n",
       "      <td>25.27</td>\n",
       "    </tr>\n",
       "    <tr>\n",
       "      <th>2</th>\n",
       "      <td>Blue</td>\n",
       "      <td>25.08</td>\n",
       "    </tr>\n",
       "  </tbody>\n",
       "</table>\n",
       "</div>"
      ],
      "text/plain": [
       "       Team  Distance\n",
       "0     Green    268.25\n",
       "1  Lavender     25.27\n",
       "2      Blue     25.08"
      ]
     },
     "execution_count": 147,
     "metadata": {},
     "output_type": "execute_result"
    }
   ],
   "source": [
    "total_bike_distance = df[df.Activity == 'Bike'].groupby('Team').sum()\n",
    "total_bike_distance = total_bike_distance.sort_values(['Distance'], ascending=False).reset_index()\n",
    "total_bike_distance"
   ]
  },
  {
   "cell_type": "code",
   "execution_count": 146,
   "metadata": {},
   "outputs": [
    {
     "data": {
      "text/plain": [
       "<matplotlib.text.Text at 0x13ff5e8d710>"
      ]
     },
     "execution_count": 146,
     "metadata": {},
     "output_type": "execute_result"
    },
    {
     "data": {
      "image/png": "[encoded data removed]",
      "text/plain": [
       "<matplotlib.figure.Figure at 0x13ff47f80f0>"
      ]
     },
     "metadata": {},
     "output_type": "display_data"
    }
   ],
   "source": [
    "ax = total_bike_distance.plot(x='Team', y='Distance', kind='bar', color=total_bike_distance['Team'])\n",
    "ax.set_ylabel('Distance (km)')"
   ]
  },
  {
   "cell_type": "markdown",
   "metadata": {},
   "source": [
    "# Total Mielage Per Activity"
   ]
  },
  {
   "cell_type": "code",
   "execution_count": 67,
   "metadata": {},
   "outputs": [
    {
     "data": {
      "text/html": [
       "<div>\n",
       "<table border=\"1\" class=\"dataframe\">\n",
       "  <thead>\n",
       "    <tr style=\"text-align: right;\">\n",
       "      <th></th>\n",
       "      <th>Distance</th>\n",
       "    </tr>\n",
       "    <tr>\n",
       "      <th>Activity</th>\n",
       "      <th></th>\n",
       "    </tr>\n",
       "  </thead>\n",
       "  <tbody>\n",
       "    <tr>\n",
       "      <th>Bike</th>\n",
       "      <td>318.60</td>\n",
       "    </tr>\n",
       "    <tr>\n",
       "      <th>Run</th>\n",
       "      <td>89.06</td>\n",
       "    </tr>\n",
       "  </tbody>\n",
       "</table>\n",
       "</div>"
      ],
      "text/plain": [
       "          Distance\n",
       "Activity          \n",
       "Bike        318.60\n",
       "Run          89.06"
      ]
     },
     "execution_count": 67,
     "metadata": {},
     "output_type": "execute_result"
    }
   ],
   "source": [
    "df.groupby(['Activity']).sum()"
   ]
  },
  {
   "cell_type": "markdown",
   "metadata": {},
   "source": [
    "# Total Mileage (all activity)"
   ]
  },
  {
   "cell_type": "code",
   "execution_count": 68,
   "metadata": {},
   "outputs": [
    {
     "data": {
      "text/plain": [
       "407.65999999999997"
      ]
     },
     "execution_count": 68,
     "metadata": {},
     "output_type": "execute_result"
    }
   ],
   "source": [
    "df['Distance'].sum()"
   ]
  },
  {
   "cell_type": "markdown",
   "metadata": {},
   "source": [
    "# Total Active Time per Activity"
   ]
  },
  {
   "cell_type": "code",
   "execution_count": 69,
   "metadata": {},
   "outputs": [],
   "source": [
    "df['Moving Time'] = pd.to_timedelta(df['Moving Time'])"
   ]
  },
  {
   "cell_type": "code",
   "execution_count": 70,
   "metadata": {},
   "outputs": [
    {
     "data": {
      "text/html": [
       "<div>\n",
       "<table border=\"1\" class=\"dataframe\">\n",
       "  <thead>\n",
       "    <tr style=\"text-align: right;\">\n",
       "      <th></th>\n",
       "      <th>Moving Time</th>\n",
       "    </tr>\n",
       "    <tr>\n",
       "      <th>Activity</th>\n",
       "      <th></th>\n",
       "    </tr>\n",
       "  </thead>\n",
       "  <tbody>\n",
       "    <tr>\n",
       "      <th>Bike</th>\n",
       "      <td>21:21:46</td>\n",
       "    </tr>\n",
       "    <tr>\n",
       "      <th>Run</th>\n",
       "      <td>15:26:00</td>\n",
       "    </tr>\n",
       "  </tbody>\n",
       "</table>\n",
       "</div>"
      ],
      "text/plain": [
       "          Moving Time\n",
       "Activity             \n",
       "Bike         21:21:46\n",
       "Run          15:26:00"
      ]
     },
     "execution_count": 70,
     "metadata": {},
     "output_type": "execute_result"
    }
   ],
   "source": [
    "df[['Moving Time', 'Activity']].groupby(['Activity']).sum()"
   ]
  },
  {
   "cell_type": "markdown",
   "metadata": {},
   "source": [
    "# Total Active Time"
   ]
  },
  {
   "cell_type": "code",
   "execution_count": 71,
   "metadata": {},
   "outputs": [
    {
     "data": {
      "text/plain": [
       "Timedelta('1 days 12:47:46')"
      ]
     },
     "execution_count": 71,
     "metadata": {},
     "output_type": "execute_result"
    }
   ],
   "source": [
    "df['Moving Time'].sum()"
   ]
  },
  {
   "cell_type": "markdown",
   "metadata": {},
   "source": [
    "# Unique Participants"
   ]
  },
  {
   "cell_type": "code",
   "execution_count": 72,
   "metadata": {},
   "outputs": [
    {
     "data": {
      "text/plain": [
       "array(['Bong Mascardo', 'Aguinaldo Catalan', 'Jesse Buban', 'Javier Rubis',\n",
       "       'Debbie Anne Borabo', 'Paolo Digo', 'Richard Jabul',\n",
       "       'Dominicano Dela Rosa', 'Charles De Jesus', 'Gerry Gerona',\n",
       "       'Joy Garcia', 'Maan Carbonel-Caballero', 'Ferdinand Laguilles',\n",
       "       'Tintin Espartinez', 'Ken Michael Florece', 'Abe Manansala'], dtype=object)"
      ]
     },
     "execution_count": 72,
     "metadata": {},
     "output_type": "execute_result"
    }
   ],
   "source": [
    "df['Name'].unique()"
   ]
  },
  {
   "cell_type": "markdown",
   "metadata": {},
   "source": [
    "### Number of Unique Participants"
   ]
  },
  {
   "cell_type": "code",
   "execution_count": 73,
   "metadata": {},
   "outputs": [
    {
     "data": {
      "text/plain": [
       "16"
      ]
     },
     "execution_count": 73,
     "metadata": {},
     "output_type": "execute_result"
    }
   ],
   "source": [
    "len(df['Name'].unique())"
   ]
  },
  {
   "cell_type": "markdown",
   "metadata": {},
   "source": [
    "### Most Active Participant"
   ]
  },
  {
   "cell_type": "code",
   "execution_count": 74,
   "metadata": {},
   "outputs": [
    {
     "data": {
      "text/plain": [
       "Richard Jabul              3\n",
       "Ferdinand Laguilles        2\n",
       "Maan Carbonel-Caballero    2\n",
       "Gerry Gerona               2\n",
       "Paolo Digo                 2\n",
       "Charles De Jesus           2\n",
       "Dominicano Dela Rosa       2\n",
       "Bong Mascardo              2\n",
       "Javier Rubis               1\n",
       "Joy Garcia                 1\n",
       "Aguinaldo Catalan          1\n",
       "Tintin Espartinez          1\n",
       "Abe Manansala              1\n",
       "Ken Michael Florece        1\n",
       "Jesse Buban                1\n",
       "Debbie Anne Borabo         1\n",
       "Name: Name, dtype: int64"
      ]
     },
     "execution_count": 74,
     "metadata": {},
     "output_type": "execute_result"
    }
   ],
   "source": [
    "df['Name'].value_counts()"
   ]
  },
  {
   "cell_type": "markdown",
   "metadata": {},
   "source": [
    "# Longest Bike Ride"
   ]
  },
  {
   "cell_type": "code",
   "execution_count": 75,
   "metadata": {},
   "outputs": [
    {
     "data": {
      "text/plain": [
       "Name                 Richard Jabul\n",
       "Team                         Green\n",
       "Activity                      Bike\n",
       "Distance                     87.82\n",
       "Pace                       0:16:02\n",
       "Moving Time        0 days 05:26:05\n",
       "Start                         5:32\n",
       "Date           2018-04-21 00:00:00\n",
       "Time           2018-04-21 05:32:00\n",
       "Name: 6, dtype: object"
      ]
     },
     "execution_count": 75,
     "metadata": {},
     "output_type": "execute_result"
    }
   ],
   "source": [
    "df.loc[df.Distance[df.Activity=='Bike'].idxmax()]"
   ]
  },
  {
   "cell_type": "markdown",
   "metadata": {},
   "source": [
    "# Longest Run"
   ]
  },
  {
   "cell_type": "code",
   "execution_count": 76,
   "metadata": {},
   "outputs": [
    {
     "data": {
      "text/plain": [
       "Name              Charles De Jesus\n",
       "Team                        Yellow\n",
       "Activity                       Run\n",
       "Distance                     17.42\n",
       "Pace                       0:10:01\n",
       "Moving Time        0 days 02:54:38\n",
       "Start                         4:02\n",
       "Date           2018-04-22 00:00:00\n",
       "Time           2018-04-22 04:02:00\n",
       "Name: 22, dtype: object"
      ]
     },
     "execution_count": 76,
     "metadata": {},
     "output_type": "execute_result"
    }
   ],
   "source": [
    "df.loc[df.Distance[df.Activity=='Run'].idxmax()]"
   ]
  },
  {
   "cell_type": "markdown",
   "metadata": {},
   "source": [
    "# Who have total run mileage greater than 'n' km?"
   ]
  },
  {
   "cell_type": "code",
   "execution_count": 77,
   "metadata": {},
   "outputs": [
    {
     "data": {
      "text/html": [
       "<div>\n",
       "<table border=\"1\" class=\"dataframe\">\n",
       "  <thead>\n",
       "    <tr style=\"text-align: right;\">\n",
       "      <th></th>\n",
       "      <th>Distance</th>\n",
       "    </tr>\n",
       "    <tr>\n",
       "      <th>Name</th>\n",
       "      <th></th>\n",
       "    </tr>\n",
       "  </thead>\n",
       "  <tbody>\n",
       "    <tr>\n",
       "      <th>Charles De Jesus</th>\n",
       "      <td>26.17</td>\n",
       "    </tr>\n",
       "    <tr>\n",
       "      <th>Bong Mascardo</th>\n",
       "      <td>12.00</td>\n",
       "    </tr>\n",
       "    <tr>\n",
       "      <th>Maan Carbonel-Caballero</th>\n",
       "      <td>11.98</td>\n",
       "    </tr>\n",
       "  </tbody>\n",
       "</table>\n",
       "</div>"
      ],
      "text/plain": [
       "                         Distance\n",
       "Name                             \n",
       "Charles De Jesus            26.17\n",
       "Bong Mascardo               12.00\n",
       "Maan Carbonel-Caballero     11.98"
      ]
     },
     "execution_count": 77,
     "metadata": {},
     "output_type": "execute_result"
    }
   ],
   "source": [
    "n = 10\n",
    "total_run = df[df.Activity=='Run'].groupby(['Name']).sum()\n",
    "total_run[total_run.Distance > n].sort_values(['Distance'], ascending=False)"
   ]
  },
  {
   "cell_type": "markdown",
   "metadata": {},
   "source": [
    "# Who have total bike mileage greater than 'n' km?"
   ]
  },
  {
   "cell_type": "code",
   "execution_count": 78,
   "metadata": {},
   "outputs": [
    {
     "data": {
      "text/html": [
       "<div>\n",
       "<table border=\"1\" class=\"dataframe\">\n",
       "  <thead>\n",
       "    <tr style=\"text-align: right;\">\n",
       "      <th></th>\n",
       "      <th>Distance</th>\n",
       "    </tr>\n",
       "    <tr>\n",
       "      <th>Name</th>\n",
       "      <th></th>\n",
       "    </tr>\n",
       "  </thead>\n",
       "  <tbody>\n",
       "    <tr>\n",
       "      <th>Richard Jabul</th>\n",
       "      <td>173.40</td>\n",
       "    </tr>\n",
       "    <tr>\n",
       "      <th>Dominicano Dela Rosa</th>\n",
       "      <td>64.88</td>\n",
       "    </tr>\n",
       "    <tr>\n",
       "      <th>Jesse Buban</th>\n",
       "      <td>29.97</td>\n",
       "    </tr>\n",
       "    <tr>\n",
       "      <th>Ken Michael Florece</th>\n",
       "      <td>25.27</td>\n",
       "    </tr>\n",
       "    <tr>\n",
       "      <th>Paolo Digo</th>\n",
       "      <td>25.08</td>\n",
       "    </tr>\n",
       "  </tbody>\n",
       "</table>\n",
       "</div>"
      ],
      "text/plain": [
       "                      Distance\n",
       "Name                          \n",
       "Richard Jabul           173.40\n",
       "Dominicano Dela Rosa     64.88\n",
       "Jesse Buban              29.97\n",
       "Ken Michael Florece      25.27\n",
       "Paolo Digo               25.08"
      ]
     },
     "execution_count": 78,
     "metadata": {},
     "output_type": "execute_result"
    }
   ],
   "source": [
    "n = 20\n",
    "total_run = df[df.Activity=='Bike'].groupby(['Name']).sum()\n",
    "total_run[total_run.Distance > n].sort_values(['Distance'], ascending=False)"
   ]
  }
 ],
 "metadata": {
  "kernelspec": {
   "display_name": "Python 3",
   "language": "python",
   "name": "python3"
  },
  "language_info": {
   "codemirror_mode": {
    "name": "ipython",
    "version": 3
   },
   "file_extension": ".py",
   "mimetype": "text/x-python",
   "name": "python",
   "nbconvert_exporter": "python",
   "pygments_lexer": "ipython3",
   "version": "3.5.2"
  },
  "latex_envs": {
   "bibliofile": "biblio.bib",
   "cite_by": "apalike",
   "current_citInitial": 1,
   "eqLabelWithNumbers": true,
   "eqNumInitial": 0
  }
 },
 "nbformat": 4,
 "nbformat_minor": 2
}
