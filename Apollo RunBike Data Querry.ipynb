{
 "cells": [
  {
   "cell_type": "code",
   "execution_count": 1,
   "metadata": {
    "collapsed": true
   },
   "outputs": [],
   "source": [
    "import pandas as pd\n",
    "import matplotlib.pyplot as plt\n",
    "plt.style.use('classic')\n",
    "%matplotlib inline"
   ]
  },
  {
   "cell_type": "code",
   "execution_count": 2,
   "metadata": {
    "collapsed": true
   },
   "outputs": [],
   "source": [
    "df = pd.read_csv('data1.csv', parse_dates=['Date', 'Time'])"
   ]
  },
  {
   "cell_type": "code",
   "execution_count": 3,
   "metadata": {},
   "outputs": [
    {
     "data": {
      "text/html": [
       "<div>\n",
       "<table border=\"1\" class=\"dataframe\">\n",
       "  <thead>\n",
       "    <tr style=\"text-align: right;\">\n",
       "      <th></th>\n",
       "      <th>Name</th>\n",
       "      <th>Team</th>\n",
       "      <th>Activity</th>\n",
       "      <th>Distance</th>\n",
       "      <th>Pace</th>\n",
       "      <th>Moving Time</th>\n",
       "      <th>Start</th>\n",
       "      <th>Date</th>\n",
       "      <th>Time</th>\n",
       "    </tr>\n",
       "  </thead>\n",
       "  <tbody>\n",
       "    <tr>\n",
       "      <th>0</th>\n",
       "      <td>Bong Mascardo</td>\n",
       "      <td>Blue</td>\n",
       "      <td>Run</td>\n",
       "      <td>5.00</td>\n",
       "      <td>0:08:02</td>\n",
       "      <td>0:40:10</td>\n",
       "      <td>4:52</td>\n",
       "      <td>2018-04-21</td>\n",
       "      <td>2018-04-21 04:52:00</td>\n",
       "    </tr>\n",
       "    <tr>\n",
       "      <th>1</th>\n",
       "      <td>Aguinaldo Catalan</td>\n",
       "      <td>Lavender</td>\n",
       "      <td>Run</td>\n",
       "      <td>4.31</td>\n",
       "      <td>0:10:45</td>\n",
       "      <td>0:46:23</td>\n",
       "      <td>5:20</td>\n",
       "      <td>2018-04-21</td>\n",
       "      <td>2018-04-21 05:20:00</td>\n",
       "    </tr>\n",
       "    <tr>\n",
       "      <th>2</th>\n",
       "      <td>Jesse Buban</td>\n",
       "      <td>Green</td>\n",
       "      <td>Bike</td>\n",
       "      <td>29.97</td>\n",
       "      <td>0:18:06</td>\n",
       "      <td>1:36:53</td>\n",
       "      <td>5:25</td>\n",
       "      <td>2018-04-21</td>\n",
       "      <td>2018-04-21 05:25:00</td>\n",
       "    </tr>\n",
       "    <tr>\n",
       "      <th>3</th>\n",
       "      <td>Javier Rubis</td>\n",
       "      <td>Yellow</td>\n",
       "      <td>Run</td>\n",
       "      <td>2.49</td>\n",
       "      <td>0:13:06</td>\n",
       "      <td>0:32:44</td>\n",
       "      <td>6:29</td>\n",
       "      <td>2018-04-21</td>\n",
       "      <td>2018-04-21 06:29:00</td>\n",
       "    </tr>\n",
       "    <tr>\n",
       "      <th>4</th>\n",
       "      <td>Debbie Anne Borabo</td>\n",
       "      <td>Green</td>\n",
       "      <td>Run</td>\n",
       "      <td>4.89</td>\n",
       "      <td>0:06:11</td>\n",
       "      <td>0:30:15</td>\n",
       "      <td>6:44</td>\n",
       "      <td>2018-04-21</td>\n",
       "      <td>2018-04-21 06:44:00</td>\n",
       "    </tr>\n",
       "  </tbody>\n",
       "</table>\n",
       "</div>"
      ],
      "text/plain": [
       "                 Name      Team Activity  Distance     Pace Moving Time Start  \\\n",
       "0       Bong Mascardo      Blue      Run      5.00  0:08:02     0:40:10  4:52   \n",
       "1   Aguinaldo Catalan  Lavender      Run      4.31  0:10:45     0:46:23  5:20   \n",
       "2         Jesse Buban     Green     Bike     29.97  0:18:06     1:36:53  5:25   \n",
       "3        Javier Rubis    Yellow      Run      2.49  0:13:06     0:32:44  6:29   \n",
       "4  Debbie Anne Borabo     Green      Run      4.89  0:06:11     0:30:15  6:44   \n",
       "\n",
       "        Date                Time  \n",
       "0 2018-04-21 2018-04-21 04:52:00  \n",
       "1 2018-04-21 2018-04-21 05:20:00  \n",
       "2 2018-04-21 2018-04-21 05:25:00  \n",
       "3 2018-04-21 2018-04-21 06:29:00  \n",
       "4 2018-04-21 2018-04-21 06:44:00  "
      ]
     },
     "execution_count": 3,
     "metadata": {},
     "output_type": "execute_result"
    }
   ],
   "source": [
    "df.head()"
   ]
  },
  {
   "cell_type": "code",
   "execution_count": 4,
   "metadata": {},
   "outputs": [
    {
     "name": "stdout",
     "output_type": "stream",
     "text": [
      "<class 'pandas.core.frame.DataFrame'>\n",
      "RangeIndex: 109 entries, 0 to 108\n",
      "Data columns (total 9 columns):\n",
      "Name           109 non-null object\n",
      "Team           109 non-null object\n",
      "Activity       109 non-null object\n",
      "Distance       109 non-null float64\n",
      "Pace           60 non-null object\n",
      "Moving Time    28 non-null object\n",
      "Start          109 non-null object\n",
      "Date           109 non-null datetime64[ns]\n",
      "Time           109 non-null datetime64[ns]\n",
      "dtypes: datetime64[ns](2), float64(1), object(6)\n",
      "memory usage: 7.7+ KB\n"
     ]
    }
   ],
   "source": [
    "df.info()"
   ]
  },
  {
   "cell_type": "markdown",
   "metadata": {},
   "source": [
    "### Total Mileage by Team per Activity"
   ]
  },
  {
   "cell_type": "code",
   "execution_count": 5,
   "metadata": {},
   "outputs": [
    {
     "data": {
      "text/html": [
       "<div>\n",
       "<table border=\"1\" class=\"dataframe\">\n",
       "  <thead>\n",
       "    <tr style=\"text-align: right;\">\n",
       "      <th></th>\n",
       "      <th></th>\n",
       "      <th>Distance</th>\n",
       "    </tr>\n",
       "    <tr>\n",
       "      <th>Activity</th>\n",
       "      <th>Team</th>\n",
       "      <th></th>\n",
       "    </tr>\n",
       "  </thead>\n",
       "  <tbody>\n",
       "    <tr>\n",
       "      <th rowspan=\"4\" valign=\"top\">Bike</th>\n",
       "      <th>Blue</th>\n",
       "      <td>52.07</td>\n",
       "    </tr>\n",
       "    <tr>\n",
       "      <th>Green</th>\n",
       "      <td>400.86</td>\n",
       "    </tr>\n",
       "    <tr>\n",
       "      <th>Lavender</th>\n",
       "      <td>470.12</td>\n",
       "    </tr>\n",
       "    <tr>\n",
       "      <th>Yellow</th>\n",
       "      <td>20.22</td>\n",
       "    </tr>\n",
       "    <tr>\n",
       "      <th rowspan=\"4\" valign=\"top\">Run</th>\n",
       "      <th>Blue</th>\n",
       "      <td>106.66</td>\n",
       "    </tr>\n",
       "    <tr>\n",
       "      <th>Green</th>\n",
       "      <td>215.66</td>\n",
       "    </tr>\n",
       "    <tr>\n",
       "      <th>Lavender</th>\n",
       "      <td>112.34</td>\n",
       "    </tr>\n",
       "    <tr>\n",
       "      <th>Yellow</th>\n",
       "      <td>165.51</td>\n",
       "    </tr>\n",
       "  </tbody>\n",
       "</table>\n",
       "</div>"
      ],
      "text/plain": [
       "                   Distance\n",
       "Activity Team              \n",
       "Bike     Blue         52.07\n",
       "         Green       400.86\n",
       "         Lavender    470.12\n",
       "         Yellow       20.22\n",
       "Run      Blue        106.66\n",
       "         Green       215.66\n",
       "         Lavender    112.34\n",
       "         Yellow      165.51"
      ]
     },
     "execution_count": 5,
     "metadata": {},
     "output_type": "execute_result"
    }
   ],
   "source": [
    "df.groupby(['Activity', 'Team']).sum()"
   ]
  },
  {
   "cell_type": "markdown",
   "metadata": {},
   "source": [
    "### Run Mileage Ranking"
   ]
  },
  {
   "cell_type": "code",
   "execution_count": 6,
   "metadata": {},
   "outputs": [
    {
     "data": {
      "text/html": [
       "<div>\n",
       "<table border=\"1\" class=\"dataframe\">\n",
       "  <thead>\n",
       "    <tr style=\"text-align: right;\">\n",
       "      <th></th>\n",
       "      <th>Team</th>\n",
       "      <th>Distance</th>\n",
       "    </tr>\n",
       "  </thead>\n",
       "  <tbody>\n",
       "    <tr>\n",
       "      <th>0</th>\n",
       "      <td>Green</td>\n",
       "      <td>215.66</td>\n",
       "    </tr>\n",
       "    <tr>\n",
       "      <th>1</th>\n",
       "      <td>Yellow</td>\n",
       "      <td>165.51</td>\n",
       "    </tr>\n",
       "    <tr>\n",
       "      <th>2</th>\n",
       "      <td>Lavender</td>\n",
       "      <td>112.34</td>\n",
       "    </tr>\n",
       "    <tr>\n",
       "      <th>3</th>\n",
       "      <td>Blue</td>\n",
       "      <td>106.66</td>\n",
       "    </tr>\n",
       "  </tbody>\n",
       "</table>\n",
       "</div>"
      ],
      "text/plain": [
       "       Team  Distance\n",
       "0     Green    215.66\n",
       "1    Yellow    165.51\n",
       "2  Lavender    112.34\n",
       "3      Blue    106.66"
      ]
     },
     "execution_count": 6,
     "metadata": {},
     "output_type": "execute_result"
    }
   ],
   "source": [
    "total_run_distance = df[df.Activity == 'Run'].groupby('Team').sum()\n",
    "total_run_distance = total_run_distance.sort_values(['Distance'], ascending=False).reset_index()\n",
    "total_run_distance"
   ]
  },
  {
   "cell_type": "code",
   "execution_count": 7,
   "metadata": {},
   "outputs": [
    {
     "data": {
      "text/plain": [
       "<matplotlib.text.Text at 0x20526a18ef0>"
      ]
     },
     "execution_count": 7,
     "metadata": {},
     "output_type": "execute_result"
    },
    {
     "data": {
      "image/png": "[encoded data removed]",
      "text/plain": [
       "<matplotlib.figure.Figure at 0x205269b9080>"
      ]
     },
     "metadata": {},
     "output_type": "display_data"
    }
   ],
   "source": [
    "ax = total_run_distance.plot(x='Team', y='Distance', kind='bar', color=total_run_distance['Team'])\n",
    "ax.set_ylabel('Distance (km)')"
   ]
  },
  {
   "cell_type": "markdown",
   "metadata": {},
   "source": [
    "### Bike Mileage Ranking"
   ]
  },
  {
   "cell_type": "code",
   "execution_count": 8,
   "metadata": {},
   "outputs": [
    {
     "data": {
      "text/html": [
       "<div>\n",
       "<table border=\"1\" class=\"dataframe\">\n",
       "  <thead>\n",
       "    <tr style=\"text-align: right;\">\n",
       "      <th></th>\n",
       "      <th>Team</th>\n",
       "      <th>Distance</th>\n",
       "    </tr>\n",
       "  </thead>\n",
       "  <tbody>\n",
       "    <tr>\n",
       "      <th>0</th>\n",
       "      <td>Lavender</td>\n",
       "      <td>470.12</td>\n",
       "    </tr>\n",
       "    <tr>\n",
       "      <th>1</th>\n",
       "      <td>Green</td>\n",
       "      <td>400.86</td>\n",
       "    </tr>\n",
       "    <tr>\n",
       "      <th>2</th>\n",
       "      <td>Blue</td>\n",
       "      <td>52.07</td>\n",
       "    </tr>\n",
       "    <tr>\n",
       "      <th>3</th>\n",
       "      <td>Yellow</td>\n",
       "      <td>20.22</td>\n",
       "    </tr>\n",
       "  </tbody>\n",
       "</table>\n",
       "</div>"
      ],
      "text/plain": [
       "       Team  Distance\n",
       "0  Lavender    470.12\n",
       "1     Green    400.86\n",
       "2      Blue     52.07\n",
       "3    Yellow     20.22"
      ]
     },
     "execution_count": 8,
     "metadata": {},
     "output_type": "execute_result"
    }
   ],
   "source": [
    "total_bike_distance = df[df.Activity == 'Bike'].groupby('Team').sum()\n",
    "total_bike_distance = total_bike_distance.sort_values(['Distance'], ascending=False).reset_index()\n",
    "total_bike_distance"
   ]
  },
  {
   "cell_type": "code",
   "execution_count": 9,
   "metadata": {},
   "outputs": [
    {
     "data": {
      "text/plain": [
       "<matplotlib.text.Text at 0x20528ae60b8>"
      ]
     },
     "execution_count": 9,
     "metadata": {},
     "output_type": "execute_result"
    },
    {
     "data": {
      "image/png": "[encoded data removed]",
      "text/plain": [
       "<matplotlib.figure.Figure at 0x205269b9d68>"
      ]
     },
     "metadata": {},
     "output_type": "display_data"
    }
   ],
   "source": [
    "ax = total_bike_distance.plot(x='Team', y='Distance', kind='bar', color=total_bike_distance['Team'])\n",
    "ax.set_ylabel('Distance (km)')"
   ]
  },
  {
   "cell_type": "markdown",
   "metadata": {},
   "source": [
    "# Total Mielage Per Activity"
   ]
  },
  {
   "cell_type": "code",
   "execution_count": 10,
   "metadata": {},
   "outputs": [
    {
     "data": {
      "text/html": [
       "<div>\n",
       "<table border=\"1\" class=\"dataframe\">\n",
       "  <thead>\n",
       "    <tr style=\"text-align: right;\">\n",
       "      <th></th>\n",
       "      <th>Distance</th>\n",
       "    </tr>\n",
       "    <tr>\n",
       "      <th>Activity</th>\n",
       "      <th></th>\n",
       "    </tr>\n",
       "  </thead>\n",
       "  <tbody>\n",
       "    <tr>\n",
       "      <th>Bike</th>\n",
       "      <td>943.27</td>\n",
       "    </tr>\n",
       "    <tr>\n",
       "      <th>Run</th>\n",
       "      <td>600.17</td>\n",
       "    </tr>\n",
       "  </tbody>\n",
       "</table>\n",
       "</div>"
      ],
      "text/plain": [
       "          Distance\n",
       "Activity          \n",
       "Bike        943.27\n",
       "Run         600.17"
      ]
     },
     "execution_count": 10,
     "metadata": {},
     "output_type": "execute_result"
    }
   ],
   "source": [
    "df.groupby(['Activity']).sum()"
   ]
  },
  {
   "cell_type": "markdown",
   "metadata": {},
   "source": [
    "# Total Mileage (all activity)"
   ]
  },
  {
   "cell_type": "code",
   "execution_count": 11,
   "metadata": {},
   "outputs": [
    {
     "data": {
      "text/plain": [
       "1543.4399999999998"
      ]
     },
     "execution_count": 11,
     "metadata": {},
     "output_type": "execute_result"
    }
   ],
   "source": [
    "df['Distance'].sum()"
   ]
  },
  {
   "cell_type": "markdown",
   "metadata": {},
   "source": [
    "# Total Active Time per Activity"
   ]
  },
  {
   "cell_type": "code",
   "execution_count": 12,
   "metadata": {
    "collapsed": true
   },
   "outputs": [],
   "source": [
    "df['Moving Time'] = pd.to_timedelta(df['Moving Time'])"
   ]
  },
  {
   "cell_type": "code",
   "execution_count": 13,
   "metadata": {},
   "outputs": [
    {
     "data": {
      "text/html": [
       "<div>\n",
       "<table border=\"1\" class=\"dataframe\">\n",
       "  <thead>\n",
       "    <tr style=\"text-align: right;\">\n",
       "      <th></th>\n",
       "      <th>Moving Time</th>\n",
       "    </tr>\n",
       "    <tr>\n",
       "      <th>Activity</th>\n",
       "      <th></th>\n",
       "    </tr>\n",
       "  </thead>\n",
       "  <tbody>\n",
       "    <tr>\n",
       "      <th>Bike</th>\n",
       "      <td>23:51:09</td>\n",
       "    </tr>\n",
       "    <tr>\n",
       "      <th>Run</th>\n",
       "      <td>18:23:44</td>\n",
       "    </tr>\n",
       "  </tbody>\n",
       "</table>\n",
       "</div>"
      ],
      "text/plain": [
       "          Moving Time\n",
       "Activity             \n",
       "Bike         23:51:09\n",
       "Run          18:23:44"
      ]
     },
     "execution_count": 13,
     "metadata": {},
     "output_type": "execute_result"
    }
   ],
   "source": [
    "df[['Moving Time', 'Activity']].groupby(['Activity']).sum()"
   ]
  },
  {
   "cell_type": "markdown",
   "metadata": {},
   "source": [
    "# Total Active Time"
   ]
  },
  {
   "cell_type": "code",
   "execution_count": 14,
   "metadata": {},
   "outputs": [
    {
     "data": {
      "text/plain": [
       "Timedelta('1 days 18:14:53')"
      ]
     },
     "execution_count": 14,
     "metadata": {},
     "output_type": "execute_result"
    }
   ],
   "source": [
    "df['Moving Time'].sum()"
   ]
  },
  {
   "cell_type": "markdown",
   "metadata": {},
   "source": [
    "# Unique Participants"
   ]
  },
  {
   "cell_type": "code",
   "execution_count": 15,
   "metadata": {},
   "outputs": [
    {
     "data": {
      "text/plain": [
       "array(['Bong Mascardo', 'Aguinaldo Catalan', 'Jesse Buban', 'Javier Rubis',\n",
       "       'Debbie Anne Borabo', 'Paolo Digo', 'Lito Hatoc',\n",
       "       'Dominicano Dela Rosa', 'Charles De Jesus', 'Gerry Gerona',\n",
       "       'Joy Garcia', 'Maan Carbonel-Caballero', 'Ferdinand Laguilles',\n",
       "       'Tintin Espartinez', 'Ken Michael Florece', 'Abe Manansala',\n",
       "       'Fidel See', 'Edgardo Lota', 'Thonz de Veco', 'Leah Hererra',\n",
       "       'Cherry Acha', 'Mel Labao', 'Kenneth Lagamayo', 'Angela Cal Ortiz',\n",
       "       'Lightgrenadez Temz', 'Ronn Andador', 'AJ Ordonez',\n",
       "       'Marinelle Freo', 'Jimmy Basaysay', 'Abegail Gatdula',\n",
       "       'Shyrel Castor', 'Marilyn Reverente', 'Mark Anthony Francisco',\n",
       "       'Rowan Jalmasco', 'Monica Labini', 'Sharlain Mae Osea',\n",
       "       'Gabriel Balonzo'], dtype=object)"
      ]
     },
     "execution_count": 15,
     "metadata": {},
     "output_type": "execute_result"
    }
   ],
   "source": [
    "df['Name'].unique()"
   ]
  },
  {
   "cell_type": "markdown",
   "metadata": {},
   "source": [
    "### Number of Unique Participants"
   ]
  },
  {
   "cell_type": "code",
   "execution_count": 16,
   "metadata": {},
   "outputs": [
    {
     "data": {
      "text/plain": [
       "37"
      ]
     },
     "execution_count": 16,
     "metadata": {},
     "output_type": "execute_result"
    }
   ],
   "source": [
    "len(df['Name'].unique())"
   ]
  },
  {
   "cell_type": "markdown",
   "metadata": {},
   "source": [
    "### Most Active Participant"
   ]
  },
  {
   "cell_type": "code",
   "execution_count": 17,
   "metadata": {},
   "outputs": [
    {
     "data": {
      "text/plain": [
       "Ferdinand Laguilles        7\n",
       "Aguinaldo Catalan          6\n",
       "Fidel See                  6\n",
       "Lito Hatoc                 6\n",
       "Dominicano Dela Rosa       6\n",
       "Edgardo Lota               6\n",
       "Paolo Digo                 5\n",
       "Joy Garcia                 5\n",
       "Charles De Jesus           5\n",
       "Gerry Gerona               5\n",
       "Tintin Espartinez          4\n",
       "Maan Carbonel-Caballero    4\n",
       "Angela Cal Ortiz           3\n",
       "Ken Michael Florece        3\n",
       "Thonz de Veco              3\n",
       "Lightgrenadez Temz         3\n",
       "Bong Mascardo              3\n",
       "Abe Manansala              2\n",
       "Marinelle Freo             2\n",
       "Cherry Acha                2\n",
       "Jesse Buban                2\n",
       "AJ Ordonez                 2\n",
       "Kenneth Lagamayo           2\n",
       "Jimmy Basaysay             2\n",
       "Mel Labao                  2\n",
       "Leah Hererra               2\n",
       "Mark Anthony Francisco     1\n",
       "Gabriel Balonzo            1\n",
       "Sharlain Mae Osea          1\n",
       "Ronn Andador               1\n",
       "Monica Labini              1\n",
       "Marilyn Reverente          1\n",
       "Shyrel Castor              1\n",
       "Rowan Jalmasco             1\n",
       "Abegail Gatdula            1\n",
       "Debbie Anne Borabo         1\n",
       "Javier Rubis               1\n",
       "Name: Name, dtype: int64"
      ]
     },
     "execution_count": 17,
     "metadata": {},
     "output_type": "execute_result"
    }
   ],
   "source": [
    "df['Name'].value_counts()"
   ]
  },
  {
   "cell_type": "markdown",
   "metadata": {},
   "source": [
    "# Longest Bike Ride"
   ]
  },
  {
   "cell_type": "code",
   "execution_count": 18,
   "metadata": {},
   "outputs": [
    {
     "data": {
      "text/plain": [
       "Name                  Edgardo Lota\n",
       "Team                      Lavender\n",
       "Activity                      Bike\n",
       "Distance                    119.25\n",
       "Pace                           NaN\n",
       "Moving Time                    NaT\n",
       "Start                         4:48\n",
       "Date           2018-04-26 00:00:00\n",
       "Time           2018-04-26 04:48:00\n",
       "Name: 80, dtype: object"
      ]
     },
     "execution_count": 18,
     "metadata": {},
     "output_type": "execute_result"
    }
   ],
   "source": [
    "df.loc[df.Distance[df.Activity=='Bike'].idxmax()]"
   ]
  },
  {
   "cell_type": "markdown",
   "metadata": {},
   "source": [
    "# Longest Run"
   ]
  },
  {
   "cell_type": "code",
   "execution_count": 19,
   "metadata": {},
   "outputs": [
    {
     "data": {
      "text/plain": [
       "Name                    Joy Garcia\n",
       "Team                         Green\n",
       "Activity                       Run\n",
       "Distance                     20.41\n",
       "Pace                       0:09:15\n",
       "Moving Time                    NaT\n",
       "Start                        17:49\n",
       "Date           2018-04-25 00:00:00\n",
       "Time           2018-04-25 17:49:00\n",
       "Name: 64, dtype: object"
      ]
     },
     "execution_count": 19,
     "metadata": {},
     "output_type": "execute_result"
    }
   ],
   "source": [
    "df.loc[df.Distance[df.Activity=='Run'].idxmax()]"
   ]
  },
  {
   "cell_type": "markdown",
   "metadata": {},
   "source": [
    "# Who have total run mileage greater than 'n' km?"
   ]
  },
  {
   "cell_type": "code",
   "execution_count": 20,
   "metadata": {},
   "outputs": [
    {
     "data": {
      "text/html": [
       "<div>\n",
       "<table border=\"1\" class=\"dataframe\">\n",
       "  <thead>\n",
       "    <tr style=\"text-align: right;\">\n",
       "      <th></th>\n",
       "      <th>Distance</th>\n",
       "    </tr>\n",
       "    <tr>\n",
       "      <th>Name</th>\n",
       "      <th></th>\n",
       "    </tr>\n",
       "  </thead>\n",
       "  <tbody>\n",
       "    <tr>\n",
       "      <th>Charles De Jesus</th>\n",
       "      <td>57.88</td>\n",
       "    </tr>\n",
       "    <tr>\n",
       "      <th>Aguinaldo Catalan</th>\n",
       "      <td>49.93</td>\n",
       "    </tr>\n",
       "    <tr>\n",
       "      <th>Tintin Espartinez</th>\n",
       "      <td>43.71</td>\n",
       "    </tr>\n",
       "    <tr>\n",
       "      <th>Ferdinand Laguilles</th>\n",
       "      <td>41.62</td>\n",
       "    </tr>\n",
       "    <tr>\n",
       "      <th>Joy Garcia</th>\n",
       "      <td>41.30</td>\n",
       "    </tr>\n",
       "    <tr>\n",
       "      <th>Maan Carbonel-Caballero</th>\n",
       "      <td>34.69</td>\n",
       "    </tr>\n",
       "    <tr>\n",
       "      <th>Gerry Gerona</th>\n",
       "      <td>31.39</td>\n",
       "    </tr>\n",
       "    <tr>\n",
       "      <th>Dominicano Dela Rosa</th>\n",
       "      <td>30.98</td>\n",
       "    </tr>\n",
       "    <tr>\n",
       "      <th>Fidel See</th>\n",
       "      <td>30.49</td>\n",
       "    </tr>\n",
       "    <tr>\n",
       "      <th>Bong Mascardo</th>\n",
       "      <td>30.13</td>\n",
       "    </tr>\n",
       "    <tr>\n",
       "      <th>Mel Labao</th>\n",
       "      <td>26.15</td>\n",
       "    </tr>\n",
       "    <tr>\n",
       "      <th>Rowan Jalmasco</th>\n",
       "      <td>18.85</td>\n",
       "    </tr>\n",
       "    <tr>\n",
       "      <th>Abegail Gatdula</th>\n",
       "      <td>18.40</td>\n",
       "    </tr>\n",
       "    <tr>\n",
       "      <th>Jimmy Basaysay</th>\n",
       "      <td>18.08</td>\n",
       "    </tr>\n",
       "    <tr>\n",
       "      <th>Marinelle Freo</th>\n",
       "      <td>14.70</td>\n",
       "    </tr>\n",
       "    <tr>\n",
       "      <th>Kenneth Lagamayo</th>\n",
       "      <td>13.30</td>\n",
       "    </tr>\n",
       "    <tr>\n",
       "      <th>Paolo Digo</th>\n",
       "      <td>11.39</td>\n",
       "    </tr>\n",
       "  </tbody>\n",
       "</table>\n",
       "</div>"
      ],
      "text/plain": [
       "                         Distance\n",
       "Name                             \n",
       "Charles De Jesus            57.88\n",
       "Aguinaldo Catalan           49.93\n",
       "Tintin Espartinez           43.71\n",
       "Ferdinand Laguilles         41.62\n",
       "Joy Garcia                  41.30\n",
       "Maan Carbonel-Caballero     34.69\n",
       "Gerry Gerona                31.39\n",
       "Dominicano Dela Rosa        30.98\n",
       "Fidel See                   30.49\n",
       "Bong Mascardo               30.13\n",
       "Mel Labao                   26.15\n",
       "Rowan Jalmasco              18.85\n",
       "Abegail Gatdula             18.40\n",
       "Jimmy Basaysay              18.08\n",
       "Marinelle Freo              14.70\n",
       "Kenneth Lagamayo            13.30\n",
       "Paolo Digo                  11.39"
      ]
     },
     "execution_count": 20,
     "metadata": {},
     "output_type": "execute_result"
    }
   ],
   "source": [
    "n = 10\n",
    "total_run = df[df.Activity=='Run'].groupby(['Name']).sum()\n",
    "total_run[total_run.Distance > n].sort_values(['Distance'], ascending=False)"
   ]
  },
  {
   "cell_type": "markdown",
   "metadata": {},
   "source": [
    "# Who have total bike mileage greater than 'n' km?"
   ]
  },
  {
   "cell_type": "code",
   "execution_count": 21,
   "metadata": {},
   "outputs": [
    {
     "data": {
      "text/html": [
       "<div>\n",
       "<table border=\"1\" class=\"dataframe\">\n",
       "  <thead>\n",
       "    <tr style=\"text-align: right;\">\n",
       "      <th></th>\n",
       "      <th>Distance</th>\n",
       "    </tr>\n",
       "    <tr>\n",
       "      <th>Name</th>\n",
       "      <th></th>\n",
       "    </tr>\n",
       "  </thead>\n",
       "  <tbody>\n",
       "    <tr>\n",
       "      <th>Lito Hatoc</th>\n",
       "      <td>256.95</td>\n",
       "    </tr>\n",
       "    <tr>\n",
       "      <th>Edgardo Lota</th>\n",
       "      <td>188.13</td>\n",
       "    </tr>\n",
       "    <tr>\n",
       "      <th>Ken Michael Florece</th>\n",
       "      <td>109.29</td>\n",
       "    </tr>\n",
       "    <tr>\n",
       "      <th>Lightgrenadez Temz</th>\n",
       "      <td>94.88</td>\n",
       "    </tr>\n",
       "    <tr>\n",
       "      <th>Jesse Buban</th>\n",
       "      <td>79.03</td>\n",
       "    </tr>\n",
       "    <tr>\n",
       "      <th>Thonz de Veco</th>\n",
       "      <td>77.82</td>\n",
       "    </tr>\n",
       "    <tr>\n",
       "      <th>Dominicano Dela Rosa</th>\n",
       "      <td>64.88</td>\n",
       "    </tr>\n",
       "    <tr>\n",
       "      <th>Paolo Digo</th>\n",
       "      <td>52.07</td>\n",
       "    </tr>\n",
       "  </tbody>\n",
       "</table>\n",
       "</div>"
      ],
      "text/plain": [
       "                      Distance\n",
       "Name                          \n",
       "Lito Hatoc              256.95\n",
       "Edgardo Lota            188.13\n",
       "Ken Michael Florece     109.29\n",
       "Lightgrenadez Temz       94.88\n",
       "Jesse Buban              79.03\n",
       "Thonz de Veco            77.82\n",
       "Dominicano Dela Rosa     64.88\n",
       "Paolo Digo               52.07"
      ]
     },
     "execution_count": 21,
     "metadata": {},
     "output_type": "execute_result"
    }
   ],
   "source": [
    "n = 50\n",
    "total_run = df[df.Activity=='Bike'].groupby(['Name']).sum()\n",
    "total_run[total_run.Distance > n].sort_values(['Distance'], ascending=False)"
   ]
  }
 ],
 "metadata": {
  "kernelspec": {
   "display_name": "Python 3",
   "language": "python",
   "name": "python3"
  },
  "language_info": {
   "codemirror_mode": {
    "name": "ipython",
    "version": 3
   },
   "file_extension": ".py",
   "mimetype": "text/x-python",
   "name": "python",
   "nbconvert_exporter": "python",
   "pygments_lexer": "ipython3",
   "version": "3.5.2"
  },
  "latex_envs": {
   "bibliofile": "biblio.bib",
   "cite_by": "apalike",
   "current_citInitial": 1,
   "eqLabelWithNumbers": true,
   "eqNumInitial": 0
  }
 },
 "nbformat": 4,
 "nbformat_minor": 2
}
