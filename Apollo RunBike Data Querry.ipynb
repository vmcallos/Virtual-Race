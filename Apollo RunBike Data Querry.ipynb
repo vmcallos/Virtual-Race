{
 "cells": [
  {
   "cell_type": "code",
   "execution_count": 41,
   "metadata": {
    "collapsed": true
   },
   "outputs": [],
   "source": [
    "import pandas as pd\n",
    "import matplotlib.pyplot as plt\n",
    "plt.style.use('classic')\n",
    "%matplotlib inline"
   ]
  },
  {
   "cell_type": "code",
   "execution_count": 42,
   "metadata": {
    "collapsed": true
   },
   "outputs": [],
   "source": [
    "df = pd.read_csv('data1.csv', parse_dates=['Date', 'Time'])"
   ]
  },
  {
   "cell_type": "code",
   "execution_count": 43,
   "metadata": {},
   "outputs": [
    {
     "data": {
      "text/html": [
       "<div>\n",
       "<table border=\"1\" class=\"dataframe\">\n",
       "  <thead>\n",
       "    <tr style=\"text-align: right;\">\n",
       "      <th></th>\n",
       "      <th>Name</th>\n",
       "      <th>Team</th>\n",
       "      <th>Activity</th>\n",
       "      <th>Distance</th>\n",
       "      <th>Pace</th>\n",
       "      <th>Moving Time</th>\n",
       "      <th>Start</th>\n",
       "      <th>Date</th>\n",
       "      <th>Time</th>\n",
       "    </tr>\n",
       "  </thead>\n",
       "  <tbody>\n",
       "    <tr>\n",
       "      <th>0</th>\n",
       "      <td>Bong Mascardo</td>\n",
       "      <td>Blue</td>\n",
       "      <td>Run</td>\n",
       "      <td>5.00</td>\n",
       "      <td>0:08:02</td>\n",
       "      <td>0:40:10</td>\n",
       "      <td>4:52</td>\n",
       "      <td>2018-04-21</td>\n",
       "      <td>2018-04-21 04:52:00</td>\n",
       "    </tr>\n",
       "    <tr>\n",
       "      <th>1</th>\n",
       "      <td>Aguinaldo Catalan</td>\n",
       "      <td>Lavender</td>\n",
       "      <td>Run</td>\n",
       "      <td>4.31</td>\n",
       "      <td>0:10:45</td>\n",
       "      <td>0:46:23</td>\n",
       "      <td>5:20</td>\n",
       "      <td>2018-04-21</td>\n",
       "      <td>2018-04-21 05:20:00</td>\n",
       "    </tr>\n",
       "    <tr>\n",
       "      <th>2</th>\n",
       "      <td>Jesse Buban</td>\n",
       "      <td>Green</td>\n",
       "      <td>Bike</td>\n",
       "      <td>29.97</td>\n",
       "      <td>0:18:06</td>\n",
       "      <td>1:36:53</td>\n",
       "      <td>5:25</td>\n",
       "      <td>2018-04-21</td>\n",
       "      <td>2018-04-21 05:25:00</td>\n",
       "    </tr>\n",
       "    <tr>\n",
       "      <th>3</th>\n",
       "      <td>Javier Rubis</td>\n",
       "      <td>Yellow</td>\n",
       "      <td>Run</td>\n",
       "      <td>2.49</td>\n",
       "      <td>0:13:06</td>\n",
       "      <td>0:32:44</td>\n",
       "      <td>6:29</td>\n",
       "      <td>2018-04-21</td>\n",
       "      <td>2018-04-21 06:29:00</td>\n",
       "    </tr>\n",
       "    <tr>\n",
       "      <th>4</th>\n",
       "      <td>Debbie Anne Borabo</td>\n",
       "      <td>Green</td>\n",
       "      <td>Run</td>\n",
       "      <td>4.89</td>\n",
       "      <td>0:06:11</td>\n",
       "      <td>0:30:15</td>\n",
       "      <td>6:44</td>\n",
       "      <td>2018-04-21</td>\n",
       "      <td>2018-04-21 06:44:00</td>\n",
       "    </tr>\n",
       "  </tbody>\n",
       "</table>\n",
       "</div>"
      ],
      "text/plain": [
       "                 Name      Team Activity  Distance     Pace Moving Time Start  \\\n",
       "0       Bong Mascardo      Blue      Run      5.00  0:08:02     0:40:10  4:52   \n",
       "1   Aguinaldo Catalan  Lavender      Run      4.31  0:10:45     0:46:23  5:20   \n",
       "2         Jesse Buban     Green     Bike     29.97  0:18:06     1:36:53  5:25   \n",
       "3        Javier Rubis    Yellow      Run      2.49  0:13:06     0:32:44  6:29   \n",
       "4  Debbie Anne Borabo     Green      Run      4.89  0:06:11     0:30:15  6:44   \n",
       "\n",
       "        Date                Time  \n",
       "0 2018-04-21 2018-04-21 04:52:00  \n",
       "1 2018-04-21 2018-04-21 05:20:00  \n",
       "2 2018-04-21 2018-04-21 05:25:00  \n",
       "3 2018-04-21 2018-04-21 06:29:00  \n",
       "4 2018-04-21 2018-04-21 06:44:00  "
      ]
     },
     "execution_count": 43,
     "metadata": {},
     "output_type": "execute_result"
    }
   ],
   "source": [
    "df.head()"
   ]
  },
  {
   "cell_type": "code",
   "execution_count": 44,
   "metadata": {},
   "outputs": [
    {
     "name": "stdout",
     "output_type": "stream",
     "text": [
      "<class 'pandas.core.frame.DataFrame'>\n",
      "RangeIndex: 79 entries, 0 to 78\n",
      "Data columns (total 9 columns):\n",
      "Name           79 non-null object\n",
      "Team           79 non-null object\n",
      "Activity       79 non-null object\n",
      "Distance       79 non-null float64\n",
      "Pace           57 non-null object\n",
      "Moving Time    28 non-null object\n",
      "Start          79 non-null object\n",
      "Date           79 non-null datetime64[ns]\n",
      "Time           79 non-null datetime64[ns]\n",
      "dtypes: datetime64[ns](2), float64(1), object(6)\n",
      "memory usage: 5.6+ KB\n"
     ]
    }
   ],
   "source": [
    "df.info()"
   ]
  },
  {
   "cell_type": "markdown",
   "metadata": {},
   "source": [
    "### Total Mileage by Team per Activity"
   ]
  },
  {
   "cell_type": "code",
   "execution_count": 45,
   "metadata": {},
   "outputs": [
    {
     "data": {
      "text/html": [
       "<div>\n",
       "<table border=\"1\" class=\"dataframe\">\n",
       "  <thead>\n",
       "    <tr style=\"text-align: right;\">\n",
       "      <th></th>\n",
       "      <th></th>\n",
       "      <th>Distance</th>\n",
       "    </tr>\n",
       "    <tr>\n",
       "      <th>Activity</th>\n",
       "      <th>Team</th>\n",
       "      <th></th>\n",
       "    </tr>\n",
       "  </thead>\n",
       "  <tbody>\n",
       "    <tr>\n",
       "      <th rowspan=\"4\" valign=\"top\">Bike</th>\n",
       "      <th>Blue</th>\n",
       "      <td>52.07</td>\n",
       "    </tr>\n",
       "    <tr>\n",
       "      <th>Green</th>\n",
       "      <td>351.80</td>\n",
       "    </tr>\n",
       "    <tr>\n",
       "      <th>Lavender</th>\n",
       "      <td>227.36</td>\n",
       "    </tr>\n",
       "    <tr>\n",
       "      <th>Yellow</th>\n",
       "      <td>20.22</td>\n",
       "    </tr>\n",
       "    <tr>\n",
       "      <th rowspan=\"4\" valign=\"top\">Run</th>\n",
       "      <th>Blue</th>\n",
       "      <td>81.39</td>\n",
       "    </tr>\n",
       "    <tr>\n",
       "      <th>Green</th>\n",
       "      <td>138.08</td>\n",
       "    </tr>\n",
       "    <tr>\n",
       "      <th>Lavender</th>\n",
       "      <td>66.72</td>\n",
       "    </tr>\n",
       "    <tr>\n",
       "      <th>Yellow</th>\n",
       "      <td>133.03</td>\n",
       "    </tr>\n",
       "  </tbody>\n",
       "</table>\n",
       "</div>"
      ],
      "text/plain": [
       "                   Distance\n",
       "Activity Team              \n",
       "Bike     Blue         52.07\n",
       "         Green       351.80\n",
       "         Lavender    227.36\n",
       "         Yellow       20.22\n",
       "Run      Blue         81.39\n",
       "         Green       138.08\n",
       "         Lavender     66.72\n",
       "         Yellow      133.03"
      ]
     },
     "execution_count": 45,
     "metadata": {},
     "output_type": "execute_result"
    }
   ],
   "source": [
    "df.groupby(['Activity', 'Team']).sum()"
   ]
  },
  {
   "cell_type": "markdown",
   "metadata": {},
   "source": [
    "### Run Mileage Ranking"
   ]
  },
  {
   "cell_type": "code",
   "execution_count": 46,
   "metadata": {},
   "outputs": [
    {
     "data": {
      "text/html": [
       "<div>\n",
       "<table border=\"1\" class=\"dataframe\">\n",
       "  <thead>\n",
       "    <tr style=\"text-align: right;\">\n",
       "      <th></th>\n",
       "      <th>Team</th>\n",
       "      <th>Distance</th>\n",
       "    </tr>\n",
       "  </thead>\n",
       "  <tbody>\n",
       "    <tr>\n",
       "      <th>0</th>\n",
       "      <td>Green</td>\n",
       "      <td>138.08</td>\n",
       "    </tr>\n",
       "    <tr>\n",
       "      <th>1</th>\n",
       "      <td>Yellow</td>\n",
       "      <td>133.03</td>\n",
       "    </tr>\n",
       "    <tr>\n",
       "      <th>2</th>\n",
       "      <td>Blue</td>\n",
       "      <td>81.39</td>\n",
       "    </tr>\n",
       "    <tr>\n",
       "      <th>3</th>\n",
       "      <td>Lavender</td>\n",
       "      <td>66.72</td>\n",
       "    </tr>\n",
       "  </tbody>\n",
       "</table>\n",
       "</div>"
      ],
      "text/plain": [
       "       Team  Distance\n",
       "0     Green    138.08\n",
       "1    Yellow    133.03\n",
       "2      Blue     81.39\n",
       "3  Lavender     66.72"
      ]
     },
     "execution_count": 46,
     "metadata": {},
     "output_type": "execute_result"
    }
   ],
   "source": [
    "total_run_distance = df[df.Activity == 'Run'].groupby('Team').sum()\n",
    "total_run_distance = total_run_distance.sort_values(['Distance'], ascending=False).reset_index()\n",
    "total_run_distance"
   ]
  },
  {
   "cell_type": "code",
   "execution_count": 47,
   "metadata": {},
   "outputs": [
    {
     "data": {
      "text/plain": [
       "<matplotlib.text.Text at 0x2e3376efd30>"
      ]
     },
     "execution_count": 47,
     "metadata": {},
     "output_type": "execute_result"
    },
    {
     "data": {
      "image/png": "[encoded data removed]",
      "text/plain": [
       "<matplotlib.figure.Figure at 0x2e3376e95c0>"
      ]
     },
     "metadata": {},
     "output_type": "display_data"
    }
   ],
   "source": [
    "ax = total_run_distance.plot(x='Team', y='Distance', kind='bar', color=total_run_distance['Team'])\n",
    "ax.set_ylabel('Distance (km)')"
   ]
  },
  {
   "cell_type": "markdown",
   "metadata": {},
   "source": [
    "### Bike Mileage Ranking"
   ]
  },
  {
   "cell_type": "code",
   "execution_count": 48,
   "metadata": {},
   "outputs": [
    {
     "data": {
      "text/html": [
       "<div>\n",
       "<table border=\"1\" class=\"dataframe\">\n",
       "  <thead>\n",
       "    <tr style=\"text-align: right;\">\n",
       "      <th></th>\n",
       "      <th>Team</th>\n",
       "      <th>Distance</th>\n",
       "    </tr>\n",
       "  </thead>\n",
       "  <tbody>\n",
       "    <tr>\n",
       "      <th>0</th>\n",
       "      <td>Green</td>\n",
       "      <td>351.80</td>\n",
       "    </tr>\n",
       "    <tr>\n",
       "      <th>1</th>\n",
       "      <td>Lavender</td>\n",
       "      <td>227.36</td>\n",
       "    </tr>\n",
       "    <tr>\n",
       "      <th>2</th>\n",
       "      <td>Blue</td>\n",
       "      <td>52.07</td>\n",
       "    </tr>\n",
       "    <tr>\n",
       "      <th>3</th>\n",
       "      <td>Yellow</td>\n",
       "      <td>20.22</td>\n",
       "    </tr>\n",
       "  </tbody>\n",
       "</table>\n",
       "</div>"
      ],
      "text/plain": [
       "       Team  Distance\n",
       "0     Green    351.80\n",
       "1  Lavender    227.36\n",
       "2      Blue     52.07\n",
       "3    Yellow     20.22"
      ]
     },
     "execution_count": 48,
     "metadata": {},
     "output_type": "execute_result"
    }
   ],
   "source": [
    "total_bike_distance = df[df.Activity == 'Bike'].groupby('Team').sum()\n",
    "total_bike_distance = total_bike_distance.sort_values(['Distance'], ascending=False).reset_index()\n",
    "total_bike_distance"
   ]
  },
  {
   "cell_type": "code",
   "execution_count": 49,
   "metadata": {},
   "outputs": [
    {
     "data": {
      "text/plain": [
       "<matplotlib.text.Text at 0x2e3364306a0>"
      ]
     },
     "execution_count": 49,
     "metadata": {},
     "output_type": "execute_result"
    },
    {
     "data": {
      "image/png": "[encoded data removed]",
      "text/plain": [
       "<matplotlib.figure.Figure at 0x2e337758470>"
      ]
     },
     "metadata": {},
     "output_type": "display_data"
    }
   ],
   "source": [
    "ax = total_bike_distance.plot(x='Team', y='Distance', kind='bar', color=total_bike_distance['Team'])\n",
    "ax.set_ylabel('Distance (km)')"
   ]
  },
  {
   "cell_type": "markdown",
   "metadata": {},
   "source": [
    "# Total Mielage Per Activity"
   ]
  },
  {
   "cell_type": "code",
   "execution_count": 50,
   "metadata": {},
   "outputs": [
    {
     "data": {
      "text/html": [
       "<div>\n",
       "<table border=\"1\" class=\"dataframe\">\n",
       "  <thead>\n",
       "    <tr style=\"text-align: right;\">\n",
       "      <th></th>\n",
       "      <th>Distance</th>\n",
       "    </tr>\n",
       "    <tr>\n",
       "      <th>Activity</th>\n",
       "      <th></th>\n",
       "    </tr>\n",
       "  </thead>\n",
       "  <tbody>\n",
       "    <tr>\n",
       "      <th>Bike</th>\n",
       "      <td>651.45</td>\n",
       "    </tr>\n",
       "    <tr>\n",
       "      <th>Run</th>\n",
       "      <td>419.22</td>\n",
       "    </tr>\n",
       "  </tbody>\n",
       "</table>\n",
       "</div>"
      ],
      "text/plain": [
       "          Distance\n",
       "Activity          \n",
       "Bike        651.45\n",
       "Run         419.22"
      ]
     },
     "execution_count": 50,
     "metadata": {},
     "output_type": "execute_result"
    }
   ],
   "source": [
    "df.groupby(['Activity']).sum()"
   ]
  },
  {
   "cell_type": "markdown",
   "metadata": {},
   "source": [
    "# Total Mileage (all activity)"
   ]
  },
  {
   "cell_type": "code",
   "execution_count": 51,
   "metadata": {},
   "outputs": [
    {
     "data": {
      "text/plain": [
       "1070.67"
      ]
     },
     "execution_count": 51,
     "metadata": {},
     "output_type": "execute_result"
    }
   ],
   "source": [
    "df['Distance'].sum()"
   ]
  },
  {
   "cell_type": "markdown",
   "metadata": {},
   "source": [
    "# Total Active Time per Activity"
   ]
  },
  {
   "cell_type": "code",
   "execution_count": 52,
   "metadata": {
    "collapsed": true
   },
   "outputs": [],
   "source": [
    "df['Moving Time'] = pd.to_timedelta(df['Moving Time'])"
   ]
  },
  {
   "cell_type": "code",
   "execution_count": 53,
   "metadata": {},
   "outputs": [
    {
     "data": {
      "text/html": [
       "<div>\n",
       "<table border=\"1\" class=\"dataframe\">\n",
       "  <thead>\n",
       "    <tr style=\"text-align: right;\">\n",
       "      <th></th>\n",
       "      <th>Moving Time</th>\n",
       "    </tr>\n",
       "    <tr>\n",
       "      <th>Activity</th>\n",
       "      <th></th>\n",
       "    </tr>\n",
       "  </thead>\n",
       "  <tbody>\n",
       "    <tr>\n",
       "      <th>Bike</th>\n",
       "      <td>23:51:09</td>\n",
       "    </tr>\n",
       "    <tr>\n",
       "      <th>Run</th>\n",
       "      <td>18:23:44</td>\n",
       "    </tr>\n",
       "  </tbody>\n",
       "</table>\n",
       "</div>"
      ],
      "text/plain": [
       "          Moving Time\n",
       "Activity             \n",
       "Bike         23:51:09\n",
       "Run          18:23:44"
      ]
     },
     "execution_count": 53,
     "metadata": {},
     "output_type": "execute_result"
    }
   ],
   "source": [
    "df[['Moving Time', 'Activity']].groupby(['Activity']).sum()"
   ]
  },
  {
   "cell_type": "markdown",
   "metadata": {},
   "source": [
    "# Total Active Time"
   ]
  },
  {
   "cell_type": "code",
   "execution_count": 54,
   "metadata": {},
   "outputs": [
    {
     "data": {
      "text/plain": [
       "Timedelta('1 days 18:14:53')"
      ]
     },
     "execution_count": 54,
     "metadata": {},
     "output_type": "execute_result"
    }
   ],
   "source": [
    "df['Moving Time'].sum()"
   ]
  },
  {
   "cell_type": "markdown",
   "metadata": {},
   "source": [
    "# Unique Participants"
   ]
  },
  {
   "cell_type": "code",
   "execution_count": 55,
   "metadata": {},
   "outputs": [
    {
     "data": {
      "text/plain": [
       "array(['Bong Mascardo', 'Aguinaldo Catalan', 'Jesse Buban', 'Javier Rubis',\n",
       "       'Debbie Anne Borabo', 'Paolo Digo', 'Lito Hatoc',\n",
       "       'Dominicano Dela Rosa', 'Charles De Jesus', 'Gerry Gerona',\n",
       "       'Joy Garcia', 'Maan Carbonel-Caballero', 'Ferdinand Laguilles',\n",
       "       'Tintin Espartinez', 'Ken Michael Florece', 'Abe Manansala',\n",
       "       'Fidel See', 'Edgardo Lota', 'Thonz de Veco', 'Cherry Acha',\n",
       "       'Mel Labao', 'Kenneth Lagamayo', 'Angela Cal Ortiz',\n",
       "       'Lightgrenadez Temz', 'Ronn Andador', 'AJ Ordonez',\n",
       "       'Marinelle Freo', 'Jimmy Basaysay', 'Rowena Daep', 'Abegail Gatdula'], dtype=object)"
      ]
     },
     "execution_count": 55,
     "metadata": {},
     "output_type": "execute_result"
    }
   ],
   "source": [
    "df['Name'].unique()"
   ]
  },
  {
   "cell_type": "markdown",
   "metadata": {},
   "source": [
    "### Number of Unique Participants"
   ]
  },
  {
   "cell_type": "code",
   "execution_count": 56,
   "metadata": {},
   "outputs": [
    {
     "data": {
      "text/plain": [
       "30"
      ]
     },
     "execution_count": 56,
     "metadata": {},
     "output_type": "execute_result"
    }
   ],
   "source": [
    "len(df['Name'].unique())"
   ]
  },
  {
   "cell_type": "markdown",
   "metadata": {},
   "source": [
    "### Most Active Participant"
   ]
  },
  {
   "cell_type": "code",
   "execution_count": 57,
   "metadata": {},
   "outputs": [
    {
     "data": {
      "text/plain": [
       "Lito Hatoc                 6\n",
       "Ferdinand Laguilles        6\n",
       "Gerry Gerona               5\n",
       "Edgardo Lota               5\n",
       "Paolo Digo                 4\n",
       "Aguinaldo Catalan          4\n",
       "Dominicano Dela Rosa       4\n",
       "Fidel See                  4\n",
       "Maan Carbonel-Caballero    4\n",
       "Charles De Jesus           4\n",
       "Joy Garcia                 3\n",
       "Tintin Espartinez          3\n",
       "Bong Mascardo              3\n",
       "Thonz de Veco              2\n",
       "Ken Michael Florece        2\n",
       "Cherry Acha                2\n",
       "Lightgrenadez Temz         2\n",
       "Angela Cal Ortiz           2\n",
       "Abe Manansala              2\n",
       "Mel Labao                  2\n",
       "Ronn Andador               1\n",
       "AJ Ordonez                 1\n",
       "Marinelle Freo             1\n",
       "Jesse Buban                1\n",
       "Rowena Daep                1\n",
       "Debbie Anne Borabo         1\n",
       "Kenneth Lagamayo           1\n",
       "Javier Rubis               1\n",
       "Abegail Gatdula            1\n",
       "Jimmy Basaysay             1\n",
       "Name: Name, dtype: int64"
      ]
     },
     "execution_count": 57,
     "metadata": {},
     "output_type": "execute_result"
    }
   ],
   "source": [
    "df['Name'].value_counts()"
   ]
  },
  {
   "cell_type": "markdown",
   "metadata": {},
   "source": [
    "# Longest Bike Ride"
   ]
  },
  {
   "cell_type": "code",
   "execution_count": 58,
   "metadata": {},
   "outputs": [
    {
     "data": {
      "text/plain": [
       "Name                    Lito Hatoc\n",
       "Team                         Green\n",
       "Activity                      Bike\n",
       "Distance                     87.82\n",
       "Pace                       0:16:02\n",
       "Moving Time        0 days 05:26:05\n",
       "Start                         5:32\n",
       "Date           2018-04-21 00:00:00\n",
       "Time           2018-04-21 05:32:00\n",
       "Name: 6, dtype: object"
      ]
     },
     "execution_count": 58,
     "metadata": {},
     "output_type": "execute_result"
    }
   ],
   "source": [
    "df.loc[df.Distance[df.Activity=='Bike'].idxmax()]"
   ]
  },
  {
   "cell_type": "markdown",
   "metadata": {},
   "source": [
    "# Longest Run"
   ]
  },
  {
   "cell_type": "code",
   "execution_count": 59,
   "metadata": {},
   "outputs": [
    {
     "data": {
      "text/plain": [
       "Name                    Joy Garcia\n",
       "Team                         Green\n",
       "Activity                       Run\n",
       "Distance                     20.41\n",
       "Pace                       0:09:15\n",
       "Moving Time                    NaT\n",
       "Start                        17:49\n",
       "Date           2018-04-25 00:00:00\n",
       "Time           2018-04-25 17:49:00\n",
       "Name: 63, dtype: object"
      ]
     },
     "execution_count": 59,
     "metadata": {},
     "output_type": "execute_result"
    }
   ],
   "source": [
    "df.loc[df.Distance[df.Activity=='Run'].idxmax()]"
   ]
  },
  {
   "cell_type": "markdown",
   "metadata": {},
   "source": [
    "# Who have total run mileage greater than 'n' km?"
   ]
  },
  {
   "cell_type": "code",
   "execution_count": 60,
   "metadata": {},
   "outputs": [
    {
     "data": {
      "text/html": [
       "<div>\n",
       "<table border=\"1\" class=\"dataframe\">\n",
       "  <thead>\n",
       "    <tr style=\"text-align: right;\">\n",
       "      <th></th>\n",
       "      <th>Distance</th>\n",
       "    </tr>\n",
       "    <tr>\n",
       "      <th>Name</th>\n",
       "      <th></th>\n",
       "    </tr>\n",
       "  </thead>\n",
       "  <tbody>\n",
       "    <tr>\n",
       "      <th>Charles De Jesus</th>\n",
       "      <td>49.40</td>\n",
       "    </tr>\n",
       "    <tr>\n",
       "      <th>Ferdinand Laguilles</th>\n",
       "      <td>36.55</td>\n",
       "    </tr>\n",
       "    <tr>\n",
       "      <th>Maan Carbonel-Caballero</th>\n",
       "      <td>34.69</td>\n",
       "    </tr>\n",
       "    <tr>\n",
       "      <th>Aguinaldo Catalan</th>\n",
       "      <td>32.04</td>\n",
       "    </tr>\n",
       "    <tr>\n",
       "      <th>Gerry Gerona</th>\n",
       "      <td>31.39</td>\n",
       "    </tr>\n",
       "    <tr>\n",
       "      <th>Joy Garcia</th>\n",
       "      <td>31.05</td>\n",
       "    </tr>\n",
       "    <tr>\n",
       "      <th>Bong Mascardo</th>\n",
       "      <td>30.13</td>\n",
       "    </tr>\n",
       "    <tr>\n",
       "      <th>Mel Labao</th>\n",
       "      <td>26.15</td>\n",
       "    </tr>\n",
       "    <tr>\n",
       "      <th>Fidel See</th>\n",
       "      <td>25.11</td>\n",
       "    </tr>\n",
       "    <tr>\n",
       "      <th>Tintin Espartinez</th>\n",
       "      <td>23.44</td>\n",
       "    </tr>\n",
       "    <tr>\n",
       "      <th>Dominicano Dela Rosa</th>\n",
       "      <td>22.98</td>\n",
       "    </tr>\n",
       "    <tr>\n",
       "      <th>Abegail Gatdula</th>\n",
       "      <td>18.13</td>\n",
       "    </tr>\n",
       "    <tr>\n",
       "      <th>Marinelle Freo</th>\n",
       "      <td>10.08</td>\n",
       "    </tr>\n",
       "  </tbody>\n",
       "</table>\n",
       "</div>"
      ],
      "text/plain": [
       "                         Distance\n",
       "Name                             \n",
       "Charles De Jesus            49.40\n",
       "Ferdinand Laguilles         36.55\n",
       "Maan Carbonel-Caballero     34.69\n",
       "Aguinaldo Catalan           32.04\n",
       "Gerry Gerona                31.39\n",
       "Joy Garcia                  31.05\n",
       "Bong Mascardo               30.13\n",
       "Mel Labao                   26.15\n",
       "Fidel See                   25.11\n",
       "Tintin Espartinez           23.44\n",
       "Dominicano Dela Rosa        22.98\n",
       "Abegail Gatdula             18.13\n",
       "Marinelle Freo              10.08"
      ]
     },
     "execution_count": 60,
     "metadata": {},
     "output_type": "execute_result"
    }
   ],
   "source": [
    "n = 10\n",
    "total_run = df[df.Activity=='Run'].groupby(['Name']).sum()\n",
    "total_run[total_run.Distance > n].sort_values(['Distance'], ascending=False)"
   ]
  },
  {
   "cell_type": "markdown",
   "metadata": {},
   "source": [
    "# Who have total bike mileage greater than 'n' km?"
   ]
  },
  {
   "cell_type": "code",
   "execution_count": 61,
   "metadata": {},
   "outputs": [
    {
     "data": {
      "text/html": [
       "<div>\n",
       "<table border=\"1\" class=\"dataframe\">\n",
       "  <thead>\n",
       "    <tr style=\"text-align: right;\">\n",
       "      <th></th>\n",
       "      <th>Distance</th>\n",
       "    </tr>\n",
       "    <tr>\n",
       "      <th>Name</th>\n",
       "      <th></th>\n",
       "    </tr>\n",
       "  </thead>\n",
       "  <tbody>\n",
       "    <tr>\n",
       "      <th>Lito Hatoc</th>\n",
       "      <td>256.95</td>\n",
       "    </tr>\n",
       "    <tr>\n",
       "      <th>Edgardo Lota</th>\n",
       "      <td>68.88</td>\n",
       "    </tr>\n",
       "    <tr>\n",
       "      <th>Dominicano Dela Rosa</th>\n",
       "      <td>64.88</td>\n",
       "    </tr>\n",
       "    <tr>\n",
       "      <th>Ken Michael Florece</th>\n",
       "      <td>63.19</td>\n",
       "    </tr>\n",
       "    <tr>\n",
       "      <th>Paolo Digo</th>\n",
       "      <td>52.07</td>\n",
       "    </tr>\n",
       "    <tr>\n",
       "      <th>Thonz de Veco</th>\n",
       "      <td>51.38</td>\n",
       "    </tr>\n",
       "  </tbody>\n",
       "</table>\n",
       "</div>"
      ],
      "text/plain": [
       "                      Distance\n",
       "Name                          \n",
       "Lito Hatoc              256.95\n",
       "Edgardo Lota             68.88\n",
       "Dominicano Dela Rosa     64.88\n",
       "Ken Michael Florece      63.19\n",
       "Paolo Digo               52.07\n",
       "Thonz de Veco            51.38"
      ]
     },
     "execution_count": 61,
     "metadata": {},
     "output_type": "execute_result"
    }
   ],
   "source": [
    "n = 50\n",
    "total_run = df[df.Activity=='Bike'].groupby(['Name']).sum()\n",
    "total_run[total_run.Distance > n].sort_values(['Distance'], ascending=False)"
   ]
  },
  {
   "cell_type": "code",
   "execution_count": 62,
   "metadata": {},
   "outputs": [
    {
     "data": {
      "text/html": [
       "<div>\n",
       "<table border=\"1\" class=\"dataframe\">\n",
       "  <thead>\n",
       "    <tr style=\"text-align: right;\">\n",
       "      <th></th>\n",
       "      <th>Name</th>\n",
       "      <th>Team</th>\n",
       "      <th>Activity</th>\n",
       "      <th>Distance</th>\n",
       "      <th>Pace</th>\n",
       "      <th>Moving Time</th>\n",
       "      <th>Start</th>\n",
       "      <th>Date</th>\n",
       "      <th>Time</th>\n",
       "    </tr>\n",
       "  </thead>\n",
       "  <tbody>\n",
       "    <tr>\n",
       "      <th>2</th>\n",
       "      <td>Jesse Buban</td>\n",
       "      <td>Green</td>\n",
       "      <td>Bike</td>\n",
       "      <td>29.97</td>\n",
       "      <td>0:18:06</td>\n",
       "      <td>01:36:53</td>\n",
       "      <td>5:25</td>\n",
       "      <td>2018-04-21</td>\n",
       "      <td>2018-04-21 05:25:00</td>\n",
       "    </tr>\n",
       "    <tr>\n",
       "      <th>6</th>\n",
       "      <td>Lito Hatoc</td>\n",
       "      <td>Green</td>\n",
       "      <td>Bike</td>\n",
       "      <td>87.82</td>\n",
       "      <td>0:16:02</td>\n",
       "      <td>05:26:05</td>\n",
       "      <td>5:32</td>\n",
       "      <td>2018-04-21</td>\n",
       "      <td>2018-04-21 05:32:00</td>\n",
       "    </tr>\n",
       "    <tr>\n",
       "      <th>7</th>\n",
       "      <td>Dominicano Dela Rosa</td>\n",
       "      <td>Green</td>\n",
       "      <td>Bike</td>\n",
       "      <td>10.42</td>\n",
       "      <td>0:15:05</td>\n",
       "      <td>00:40:20</td>\n",
       "      <td>11:04</td>\n",
       "      <td>2018-04-21</td>\n",
       "      <td>2018-04-21 11:04:00</td>\n",
       "    </tr>\n",
       "    <tr>\n",
       "      <th>15</th>\n",
       "      <td>Dominicano Dela Rosa</td>\n",
       "      <td>Green</td>\n",
       "      <td>Bike</td>\n",
       "      <td>54.46</td>\n",
       "      <td>0:15:03</td>\n",
       "      <td>04:06:27</td>\n",
       "      <td>6:01</td>\n",
       "      <td>2018-04-22</td>\n",
       "      <td>2018-04-22 06:01:00</td>\n",
       "    </tr>\n",
       "    <tr>\n",
       "      <th>16</th>\n",
       "      <td>Lito Hatoc</td>\n",
       "      <td>Green</td>\n",
       "      <td>Bike</td>\n",
       "      <td>62.74</td>\n",
       "      <td>0:21:09</td>\n",
       "      <td>02:29:08</td>\n",
       "      <td>6:01</td>\n",
       "      <td>2018-04-22</td>\n",
       "      <td>2018-04-22 06:01:00</td>\n",
       "    </tr>\n",
       "    <tr>\n",
       "      <th>25</th>\n",
       "      <td>Lito Hatoc</td>\n",
       "      <td>Green</td>\n",
       "      <td>Bike</td>\n",
       "      <td>22.84</td>\n",
       "      <td>0:21:05</td>\n",
       "      <td>01:03:43</td>\n",
       "      <td>5:21</td>\n",
       "      <td>2018-04-23</td>\n",
       "      <td>2018-04-23 05:21:00</td>\n",
       "    </tr>\n",
       "    <tr>\n",
       "      <th>35</th>\n",
       "      <td>Lito Hatoc</td>\n",
       "      <td>Green</td>\n",
       "      <td>Bike</td>\n",
       "      <td>28.66</td>\n",
       "      <td>NaN</td>\n",
       "      <td>NaT</td>\n",
       "      <td>0:05:02</td>\n",
       "      <td>2018-04-24</td>\n",
       "      <td>2018-04-24 00:05:00</td>\n",
       "    </tr>\n",
       "    <tr>\n",
       "      <th>50</th>\n",
       "      <td>Lito Hatoc</td>\n",
       "      <td>Green</td>\n",
       "      <td>Bike</td>\n",
       "      <td>28.72</td>\n",
       "      <td>NaN</td>\n",
       "      <td>NaT</td>\n",
       "      <td>5:05</td>\n",
       "      <td>2018-04-25</td>\n",
       "      <td>2018-04-25 05:05:00</td>\n",
       "    </tr>\n",
       "    <tr>\n",
       "      <th>76</th>\n",
       "      <td>Lito Hatoc</td>\n",
       "      <td>Green</td>\n",
       "      <td>Bike</td>\n",
       "      <td>26.17</td>\n",
       "      <td>NaN</td>\n",
       "      <td>NaT</td>\n",
       "      <td>5:17</td>\n",
       "      <td>2018-04-26</td>\n",
       "      <td>2018-04-26 05:17:00</td>\n",
       "    </tr>\n",
       "  </tbody>\n",
       "</table>\n",
       "</div>"
      ],
      "text/plain": [
       "                    Name   Team Activity  Distance     Pace  Moving Time  \\\n",
       "2            Jesse Buban  Green     Bike     29.97  0:18:06     01:36:53   \n",
       "6             Lito Hatoc  Green     Bike     87.82  0:16:02     05:26:05   \n",
       "7   Dominicano Dela Rosa  Green     Bike     10.42  0:15:05     00:40:20   \n",
       "15  Dominicano Dela Rosa  Green     Bike     54.46  0:15:03     04:06:27   \n",
       "16            Lito Hatoc  Green     Bike     62.74  0:21:09     02:29:08   \n",
       "25            Lito Hatoc  Green     Bike     22.84  0:21:05     01:03:43   \n",
       "35            Lito Hatoc  Green     Bike     28.66      NaN          NaT   \n",
       "50            Lito Hatoc  Green     Bike     28.72      NaN          NaT   \n",
       "76            Lito Hatoc  Green     Bike     26.17      NaN          NaT   \n",
       "\n",
       "      Start       Date                Time  \n",
       "2      5:25 2018-04-21 2018-04-21 05:25:00  \n",
       "6      5:32 2018-04-21 2018-04-21 05:32:00  \n",
       "7     11:04 2018-04-21 2018-04-21 11:04:00  \n",
       "15     6:01 2018-04-22 2018-04-22 06:01:00  \n",
       "16     6:01 2018-04-22 2018-04-22 06:01:00  \n",
       "25     5:21 2018-04-23 2018-04-23 05:21:00  \n",
       "35  0:05:02 2018-04-24 2018-04-24 00:05:00  \n",
       "50     5:05 2018-04-25 2018-04-25 05:05:00  \n",
       "76     5:17 2018-04-26 2018-04-26 05:17:00  "
      ]
     },
     "execution_count": 62,
     "metadata": {},
     "output_type": "execute_result"
    }
   ],
   "source": [
    "df[(df['Team']=='Green') & (df['Activity']=='Bike')]"
   ]
  }
 ],
 "metadata": {
  "kernelspec": {
   "display_name": "Python 3",
   "language": "python",
   "name": "python3"
  },
  "language_info": {
   "codemirror_mode": {
    "name": "ipython",
    "version": 3
   },
   "file_extension": ".py",
   "mimetype": "text/x-python",
   "name": "python",
   "nbconvert_exporter": "python",
   "pygments_lexer": "ipython3",
   "version": "3.5.2"
  },
  "latex_envs": {
   "bibliofile": "biblio.bib",
   "cite_by": "apalike",
   "current_citInitial": 1,
   "eqLabelWithNumbers": true,
   "eqNumInitial": 0
  }
 },
 "nbformat": 4,
 "nbformat_minor": 2
}
